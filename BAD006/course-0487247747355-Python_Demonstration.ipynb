{
  "nbformat": 4,
  "nbformat_minor": 0,
  "metadata": {
    "colab": {
      "name": "Demonstration_c11.ipynb",
      "provenance": [],
      "collapsed_sections": []
    },
    "kernelspec": {
      "name": "python3",
      "display_name": "Python 3"
    }
  },
  "cells": [
    {
      "cell_type": "code",
      "metadata": {
        "id": "DM5Q5M59XmE7"
      },
      "source": [
        "print(\"hello world\")"
      ],
      "execution_count": null,
      "outputs": []
    },
    {
      "cell_type": "markdown",
      "metadata": {
        "id": "259DEhHv6DMi"
      },
      "source": [
        "# Colab hardware\n",
        "\n",
        "Ram: 12.72 GB\n",
        "\n",
        "GPU: Nvidia K80s, T4s, P4s and P100s\n",
        "\n",
        "Nice start in machine learning\n",
        "\n"
      ]
    },
    {
      "cell_type": "code",
      "metadata": {
        "id": "Jb-fbZHa60Ox"
      },
      "source": [
        "import os\n",
        "import psutil\n",
        "import humanize\n",
        "process = psutil.Process(os.getpid())\n",
        "print(\"Gen RAM Free: \" + humanize.naturalsize( psutil.virtual_memory().available ), \" | Proc size: \" + humanize.naturalsize( process.memory_info().rss))"
      ],
      "execution_count": null,
      "outputs": []
    },
    {
      "cell_type": "markdown",
      "metadata": {
        "id": "9Ekjmqfqa_ab"
      },
      "source": [
        "To enable GPU acceleration, go to Edit -> Notebook settings -> Hardware accelerator -> *select* \"GPU\""
      ]
    },
    {
      "cell_type": "code",
      "metadata": {
        "id": "Z-5uB36H607h"
      },
      "source": [
        "# command not found if session is not using GPU acceleration\n",
        "!nvidia-smi"
      ],
      "execution_count": null,
      "outputs": []
    },
    {
      "cell_type": "markdown",
      "metadata": {
        "id": "T1AuMr4aktSc"
      },
      "source": [
        "# Python introduction\n",
        "- emphasizes readability, simplicity & explictity\n",
        "- one & only one best way to do one single task\n",
        "- dynamic type\n",
        "- single threaded\n"
      ]
    },
    {
      "cell_type": "code",
      "metadata": {
        "id": "RWZbrxjHXqCZ"
      },
      "source": [
        "import this"
      ],
      "execution_count": null,
      "outputs": []
    },
    {
      "cell_type": "markdown",
      "metadata": {
        "id": "rdsnyk8k3ARe"
      },
      "source": [
        "**System command**\n",
        "\n",
        "add \"!\" to the start of the code to indicate the commands are ran in the system environment"
      ]
    },
    {
      "cell_type": "code",
      "metadata": {
        "id": "F7x4av5L2_td"
      },
      "source": [
        "!python --version"
      ],
      "execution_count": null,
      "outputs": []
    },
    {
      "cell_type": "code",
      "metadata": {
        "id": "SLcWm92x3GTX"
      },
      "source": [
        "!pip install numpy"
      ],
      "execution_count": null,
      "outputs": []
    },
    {
      "cell_type": "code",
      "metadata": {
        "id": "Rbie7KStpose"
      },
      "source": [
        "# show current work directory\n",
        "!pwd"
      ],
      "execution_count": null,
      "outputs": []
    },
    {
      "cell_type": "code",
      "metadata": {
        "id": "9ol3wDXbpjfr"
      },
      "source": [
        "!ls"
      ],
      "execution_count": null,
      "outputs": []
    },
    {
      "cell_type": "markdown",
      "metadata": {
        "id": "HWZMwzfbohNQ"
      },
      "source": [
        "# Variable, if-else, for loop, while loop\n"
      ]
    },
    {
      "cell_type": "code",
      "metadata": {
        "id": "t9tGq0J3izSx"
      },
      "source": [
        "# Python\n",
        "# dynamic type - variable type is determined at complie time - duck typing as JS\n",
        "\n",
        "# js / ts style\n",
        "# const popularityJason = isJasonGentleman ? \"Many love letter\" : \"No love letter at all\"\n",
        "\n",
        "# (optional)\n",
        "# popularity_Jason = \"\"\n",
        "\n",
        "is_Jason_gentleman = True\n",
        "\n",
        "if is_Jason_gentleman:                                  # is True: -- no type checking \"===\"\n",
        "  popularity_Jason = \"Many love letter\"\n",
        "elif is_Jason_gentleman == \"okay la\":\n",
        "  popularity_Jason = \"little toxic boy\"\n",
        "else:\n",
        "  popularity_Jason = \"No love letter at all\"\n",
        "\n",
        "popularity_Jason"
      ],
      "execution_count": null,
      "outputs": []
    },
    {
      "cell_type": "code",
      "metadata": {
        "id": "6eanWR5Cks1m"
      },
      "source": [
        "foo_bar = 721\n",
        "print(foo_bar)\n",
        "print(type(foo_bar))\n",
        "foo_bar = \"white shirt\"\n",
        "print(foo_bar)\n",
        "print(type(foo_bar))"
      ],
      "execution_count": null,
      "outputs": []
    },
    {
      "cell_type": "code",
      "metadata": {
        "id": "iy2Gr4tQX0KW"
      },
      "source": [
        "# this is a comment\n",
        "print(\"hello everyone\") # this is also a comment\n",
        "\n",
        "# triple double / single quote\n",
        "'''\n",
        "This is a long comment / documentationation in some IDE - integrated development environment & text editors\n",
        "But not in RELP - interactive read-eval-loop-print shell\n",
        "'''"
      ],
      "execution_count": null,
      "outputs": []
    },
    {
      "cell_type": "code",
      "metadata": {
        "id": "WRO9IacTX_Y2"
      },
      "source": [
        "import random\n",
        "\n",
        "random.seed(666)\n",
        "\n",
        "random_array = []\n",
        "\n",
        "i = 0\n",
        "while i < 10:\n",
        "  single_random_num = random.random()\n",
        "  random_array.append(single_random_num)\n",
        "  i += 1\n",
        "\n",
        "print(random_array)\n",
        "print(i, single_random_num)\n",
        "\n",
        "# string formatting\n",
        "# print(\"\\n\")\n",
        "# print(\"i is {} and the single random number is {}\".format(i, single_random_num))"
      ],
      "execution_count": null,
      "outputs": []
    },
    {
      "cell_type": "code",
      "metadata": {
        "id": "eAYWlghIZk94"
      },
      "source": [
        "random_array"
      ],
      "execution_count": null,
      "outputs": []
    },
    {
      "cell_type": "code",
      "metadata": {
        "id": "YSpDWgUxsLMC"
      },
      "source": [
        "for_loop_random_array = []\n",
        "\n",
        "for j in range(0, 10):\n",
        "  for_loop_random_num = random.random()\n",
        "  for_loop_random_array.append(for_loop_random_num)\n",
        "\n",
        "print(for_loop_random_array)\n",
        "print(j, for_loop_random_num)\n",
        "\n",
        "# string formatting\n",
        "# print(\"\\n\")\n",
        "# print(\"j is {} and the for loop random number is {}\".format(j, for_loop_random_num))"
      ],
      "execution_count": null,
      "outputs": []
    },
    {
      "cell_type": "code",
      "metadata": {
        "id": "NZUNnCdgqU1C"
      },
      "source": [
        "# reverse string\n",
        "str_re = \"\"\n",
        "\n",
        "for char in \"Tecky\":\n",
        "    str_re = char + str_re\n",
        "    print(char)\n",
        "\n",
        "print(\"---\")\n",
        "print(f\"The reversed string is {str_re.capitalize()}\")       # .lower / upper / capitialize ()\n",
        "print(f\"Length fo reversed string is {len(str_re)}\")"
      ],
      "execution_count": null,
      "outputs": []
    },
    {
      "cell_type": "markdown",
      "metadata": {
        "id": "JxRg6GqxuD3u"
      },
      "source": [
        "# Error Control Flow\n",
        "\n",
        "***Python***\n",
        "\n",
        "EAFP - easier to ask for forgiveness than permission\n",
        "\n",
        "---\n",
        "\n",
        "***JS / TS , C-family language***\n",
        "\n",
        "LBYL - look before you leap"
      ]
    },
    {
      "cell_type": "code",
      "metadata": {
        "id": "yg012BI6uhrU"
      },
      "source": [
        "try:\n",
        "    may_exist_func()\n",
        "except NameError:\n",
        "    print(\"Said functions cannot be found\")\n",
        "\n",
        "#   // looks like if(session.user) {...}\n",
        "#   if(may_exist_func):\n",
        "#       may_exist_func()\n",
        "#   else:\n",
        "#       console.log(function is not defined\")"
      ],
      "execution_count": null,
      "outputs": []
    },
    {
      "cell_type": "markdown",
      "metadata": {
        "id": "TRW93PLTtGyX"
      },
      "source": [
        "# String formating"
      ]
    },
    {
      "cell_type": "code",
      "metadata": {
        "id": "9Ilbm4ACr2NK"
      },
      "source": [
        "print(i)"
      ],
      "execution_count": null,
      "outputs": []
    },
    {
      "cell_type": "code",
      "metadata": {
        "id": "uggHJafxbukn"
      },
      "source": [
        "# incorrect input type\n",
        "# print(i + \"I'm seperator\" + single_random_num)"
      ],
      "execution_count": null,
      "outputs": []
    },
    {
      "cell_type": "code",
      "metadata": {
        "id": "YSxmKjy3bkVN"
      },
      "source": [
        "# str() = stringify\n",
        "print(str(i) + \" I'm seperator \" + str(single_random_num)) #\\n"
      ],
      "execution_count": null,
      "outputs": []
    },
    {
      "cell_type": "code",
      "metadata": {
        "id": "UyX3qZNFcGZ1"
      },
      "source": [
        "# old string formatting - from python 2\n",
        "print(\"%s seperating %s %s\" % (i, single_random_num, \"ending this\"))\n",
        "answer = input(\"Type your lucky number: \")\n",
        "print(f\"oh so {answer} your fav?\")"
      ],
      "execution_count": null,
      "outputs": []
    },
    {
      "cell_type": "code",
      "metadata": {
        "id": "Cawb05K5hLu2"
      },
      "source": [
        "# new string formatting - .format()\n",
        "print(\"{} seperating {} {}\".format(i, single_random_num, \"ending this\"))\n",
        "\n",
        "print(\"\")\n",
        "\n",
        "print(\"{num_1} seperating {num_2} and this is {ending}\".format(num_1 = i, num_2 = single_random_num, ending = \"the end\"))\n",
        "\n",
        "print(\"\")\n",
        "\n",
        "# newer string interpolation f-string - from python 3\n",
        "import random as rd\n",
        "print(f\"This is i {i} and value of random number is {rd.random()}\")"
      ],
      "execution_count": null,
      "outputs": []
    },
    {
      "cell_type": "markdown",
      "metadata": {
        "id": "5btzllTfehow"
      },
      "source": [
        "# Function"
      ]
    },
    {
      "cell_type": "code",
      "metadata": {
        "id": "EJ9dyMAffwdM"
      },
      "source": [
        "def first_function():\n",
        "    print(\"this is my first function!\")\n",
        "\n",
        "# pass is not nessary in Python 3.x anymore\n",
        "# in fact, I've never written 'pass' in my code\n",
        "\n",
        "def simple_add(x, y = 8):\n",
        "    return x + y"
      ],
      "execution_count": null,
      "outputs": []
    },
    {
      "cell_type": "code",
      "metadata": {
        "id": "jXEwZpNLs0jG"
      },
      "source": [
        "first_function"
      ],
      "execution_count": null,
      "outputs": []
    },
    {
      "cell_type": "code",
      "metadata": {
        "id": "mi8ji2ceWE_K"
      },
      "source": [
        "first_function()"
      ],
      "execution_count": null,
      "outputs": []
    },
    {
      "cell_type": "code",
      "metadata": {
        "id": "Jcy_zb8WgFAt"
      },
      "source": [
        "some_num = simple_add(9, 10)\n",
        "print(some_num)"
      ],
      "execution_count": null,
      "outputs": []
    },
    {
      "cell_type": "markdown",
      "metadata": {
        "id": "5hnms6t6fmlQ"
      },
      "source": [
        "# List & dictionary"
      ]
    },
    {
      "cell_type": "code",
      "metadata": {
        "id": "cMfoYEr5fmNI"
      },
      "source": [
        "list_1 = []\n",
        "list_1.append(some_num)\n",
        "\n",
        "for i in range(0, 10):\n",
        "    if i % 2 == 0:\n",
        "        list_1.append(i)\n",
        "    else:\n",
        "        list_1.append(i-1)"
      ],
      "execution_count": null,
      "outputs": []
    },
    {
      "cell_type": "code",
      "metadata": {
        "id": "6UBZBoxtiHoz"
      },
      "source": [
        "list_1"
      ],
      "execution_count": null,
      "outputs": []
    },
    {
      "cell_type": "code",
      "metadata": {
        "id": "HKkM5ULIihIc"
      },
      "source": [
        "for j in range(0, 5):\n",
        "    list_1.append(j)\n",
        "print(list_1)"
      ],
      "execution_count": null,
      "outputs": []
    },
    {
      "cell_type": "code",
      "metadata": {
        "id": "uD-ZTp1eiWmE"
      },
      "source": [
        "list_1[8]"
      ],
      "execution_count": null,
      "outputs": []
    },
    {
      "cell_type": "markdown",
      "metadata": {
        "id": "5_aerwsVlvIp"
      },
      "source": [
        "Tuple is the immutable version of list - though less utilized by modern Python code\n",
        "\n",
        "https://stackoverflow.com/search?tab=relevance&q=python%20tuple"
      ]
    },
    {
      "cell_type": "code",
      "metadata": {
        "id": "Hd65aCMjluwi"
      },
      "source": [
        "tuple_1 = (1, 2, 3)\n",
        "print(tuple_1[-1])"
      ],
      "execution_count": null,
      "outputs": []
    },
    {
      "cell_type": "code",
      "metadata": {
        "id": "HUxwsDo9iWaZ"
      },
      "source": [
        "dict_1 = {'foo': 8, \"bar\": 55, \"Jason\": \"love letter\"}"
      ],
      "execution_count": null,
      "outputs": []
    },
    {
      "cell_type": "code",
      "metadata": {
        "id": "Q34B459HjhYS"
      },
      "source": [
        "dict_1[\"foo\"]"
      ],
      "execution_count": null,
      "outputs": []
    },
    {
      "cell_type": "code",
      "metadata": {
        "id": "v9909KLtjx3X"
      },
      "source": [
        "for this_key in dict_1:\n",
        "    print(\"The key is: \" + str(this_key))\n",
        "    print(\"The value is: \" + str(dict_1[this_key]))"
      ],
      "execution_count": null,
      "outputs": []
    },
    {
      "cell_type": "markdown",
      "metadata": {
        "id": "93pKZlV2oZHH"
      },
      "source": [
        "# Lambda & Map\n",
        "\n",
        "Lambda is a convenient way to declare a small function\n",
        "\n",
        "Just like the function as an object in JS/TS:\n",
        "\n",
        "\n",
        "\n",
        "\n"
      ]
    },
    {
      "cell_type": "code",
      "metadata": {
        "id": "RSOJVIkIqZsd"
      },
      "source": [
        "# const myFunc = (x) => x + 1\n",
        "\n",
        "add_0 = lambda x: x + 1\n",
        "add_0(2)"
      ],
      "execution_count": null,
      "outputs": []
    },
    {
      "cell_type": "code",
      "metadata": {
        "id": "XWK9czpSq6E-"
      },
      "source": [
        "add_1 = lambda x, y, z : x + y*z\n",
        "add_1(7, 2, 1)"
      ],
      "execution_count": null,
      "outputs": []
    },
    {
      "cell_type": "markdown",
      "metadata": {
        "id": "t1dwOuxfrHSb"
      },
      "source": [
        "Lambda also accepts default values, just put after the mandatory input parameters"
      ]
    },
    {
      "cell_type": "code",
      "metadata": {
        "id": "Soc7ct6NqZgz"
      },
      "source": [
        "add_2 = lambda y, x=100, z=1 : x + y*z\n",
        "add_2(7)"
      ],
      "execution_count": null,
      "outputs": []
    },
    {
      "cell_type": "markdown",
      "metadata": {
        "id": "SvBaaExwrsPZ"
      },
      "source": [
        "map function allows us to match functions to the iterable, whether it's a string, dictionary or other data type\n",
        "\n",
        "p.s. remember to add list(...) to turn map object into list"
      ]
    },
    {
      "cell_type": "code",
      "metadata": {
        "id": "Bbt1B7Mvrrc8"
      },
      "source": [
        "list(map(add_0, [1000, 100, 10]))"
      ],
      "execution_count": null,
      "outputs": []
    },
    {
      "cell_type": "markdown",
      "metadata": {
        "id": "fuDagWv-tNyj"
      },
      "source": [
        "# Basic plotting"
      ]
    },
    {
      "cell_type": "code",
      "metadata": {
        "id": "TTwyN_PWZnVd"
      },
      "source": [
        "import matplotlib.pyplot as plt\n",
        "plt.plot(random_array)\n",
        "plt.show()"
      ],
      "execution_count": null,
      "outputs": []
    },
    {
      "cell_type": "markdown",
      "metadata": {
        "id": "YWeNZsMeaBlX"
      },
      "source": [
        "Developer's love: documentation\n",
        "\n",
        "https://matplotlib.org/3.2.2/api/_as_gen/matplotlib.pyplot.plot.html"
      ]
    },
    {
      "cell_type": "code",
      "metadata": {
        "id": "y64arGhFaBAv"
      },
      "source": [
        "plt.ylim(0, 1)\n",
        "plt.plot(random_array, \"^:r\") # \"or\"\n",
        "plt.show()\n",
        "\n",
        "# default is line, \"^:r\" = triangle, dotted line, red ; \"or\" = circle, no line, red"
      ],
      "execution_count": null,
      "outputs": []
    },
    {
      "cell_type": "code",
      "metadata": {
        "id": "guRqETIJZxu4"
      },
      "source": [
        "random_array_1 = []\n",
        "\n",
        "i = 0\n",
        "while i < 10:\n",
        "  single_random_num = random.random()\n",
        "  random_array_1.append(single_random_num)\n",
        "  i += 1\n",
        "\n",
        "plt.xlim(0, 1)\n",
        "plt.ylim(0, 1)\n",
        "plt.scatter(random_array, random_array_1)\n",
        "plt.show()"
      ],
      "execution_count": null,
      "outputs": []
    },
    {
      "cell_type": "code",
      "metadata": {
        "id": "GbNvfjevny0d"
      },
      "source": [
        "# lambda function\n",
        "# similar to js/ts:\n",
        "# foo = () => { ... }\n",
        "# good for small function\n",
        "\n",
        "lambda_fun_plus_one = lambda x: x + random.random()\n",
        "\n",
        "random_plus_one = list(map(lambda_fun_plus_one, random_array))\n",
        "print(random_array)\n",
        "print(random_plus_one)"
      ],
      "execution_count": null,
      "outputs": []
    },
    {
      "cell_type": "code",
      "metadata": {
        "id": "rvw5g8xqk0aF"
      },
      "source": [
        "plt.xlim(0, 1)\n",
        "plt.ylim(0, 2)\n",
        "plt.scatter(random_array, random_plus_one)\n",
        "plt.show()"
      ],
      "execution_count": null,
      "outputs": []
    },
    {
      "cell_type": "markdown",
      "metadata": {
        "id": "0qYgBRV9p7fh"
      },
      "source": [
        "# Class & all related stuffs"
      ]
    },
    {
      "cell_type": "code",
      "metadata": {
        "id": "3TrnD8cuqCa6"
      },
      "source": [
        "class Calculator:\n",
        "    # class that computes +-*/ and others\n",
        "\n",
        "    # initialize the class with properties\n",
        "    # required value - default value\n",
        "    def __init__(self, owner, bias = 0, error_factor = 1):\n",
        "        self.owner = owner\n",
        "        self._bias = bias\n",
        "        self._error_factor = error_factor\n",
        "\n",
        "    def plus(self, num_1, num_2):\n",
        "        return num_1 + num_2\n",
        "    \n",
        "    def plus_wrong(self, num_1, num_2):\n",
        "        \n",
        "        # incorrect\n",
        "        return (num_1 + num_2 + bias) * error_factor\n",
        "\n",
        "        # correct\n",
        "        # return (num_1 + num_2 + self._bias) * self._error_factor\n",
        "\n",
        "    # for later \n",
        "    # self._owner = owner\n",
        "    #\n",
        "    # def read_name(self):\n",
        "        # return self._owner\n"
      ],
      "execution_count": null,
      "outputs": []
    },
    {
      "cell_type": "code",
      "metadata": {
        "id": "O2vspAlDq6pu"
      },
      "source": [
        "my_cal = Calculator(\"Dragon\")   \n",
        "my_cal.owner\n",
        "\n",
        "# print(my_cal.read_name())\n",
        "# print(my_cal._owner)\n",
        "\n",
        "# exceptional case\n",
        "print(my_cal.__dict__)\n",
        "# print(my_cal._owner)\n",
        "\n",
        "# my_cal._owner = \"this is so so wrong\"\n",
        "# print(my_cal._owner)"
      ],
      "execution_count": null,
      "outputs": []
    },
    {
      "cell_type": "code",
      "metadata": {
        "id": "Ytms3VCRsnIy"
      },
      "source": [
        "my_cal.owner = \"silly person\"\n",
        "print(my_cal.owner)"
      ],
      "execution_count": null,
      "outputs": []
    },
    {
      "cell_type": "markdown",
      "metadata": {
        "id": "Pr6xS6c6tGQn"
      },
      "source": [
        "Python has no protection on class attributes\n",
        "\n",
        "Instead, all dev are encouraged to be responsible to treat the variable\n",
        "\n",
        "-- bear in mind that you can screw up can prevent yourself screwing up --\n",
        "\n",
        "1.   use def-return to read attributes\n",
        "2.   read attributes but never change it, except special cases\n",
        "\n"
      ]
    },
    {
      "cell_type": "code",
      "metadata": {
        "id": "j1aXhguprBLM"
      },
      "source": [
        "print(my_cal.owner + \" is computing some silly math\")\n",
        "foo = my_cal.plus(10, 20)\n",
        "print(foo)"
      ],
      "execution_count": null,
      "outputs": []
    },
    {
      "cell_type": "code",
      "metadata": {
        "id": "gDmpDFMor75s"
      },
      "source": [
        "jason_cal = Calculator(\"Jason the Gentleman\", 100)\n",
        "jason_cal.plus_wrong(10, 20)"
      ],
      "execution_count": null,
      "outputs": []
    },
    {
      "cell_type": "code",
      "metadata": {
        "id": "3ct6WNAau-Aq"
      },
      "source": [
        "alex_cal = Calculator(\"Alex IT little dog\", 12, 2)\n",
        "alex_cal.plus_wrong(10, 20)"
      ],
      "execution_count": null,
      "outputs": []
    },
    {
      "cell_type": "markdown",
      "metadata": {
        "id": "khanT-k6CH48"
      },
      "source": [
        "# Single thread & concurrency\n",
        "\n",
        "Python is a single-threaded programming language.\n",
        "\n",
        "Each line of code will be executed sequentially; and execute them in parallel requires multiple-processing - process based parallelism\n",
        "\n",
        "docu: https://docs.python.org/3/library/multiprocessing.html#"
      ]
    },
    {
      "cell_type": "code",
      "metadata": {
        "id": "0Yp-vhaFCC8U"
      },
      "source": [
        "# single thread\n",
        "import time\n",
        "print(\"before sleep\")\n",
        "time.sleep(3)\n",
        "print(\"after sleep\")"
      ],
      "execution_count": null,
      "outputs": []
    },
    {
      "cell_type": "code",
      "metadata": {
        "id": "PrgX9vhXCl-s"
      },
      "source": [
        "# concurrency\n",
        "def immediate_fun():\n",
        "    print(\"I'm immediate fun...ction!\")\n",
        "    time.sleep(3)\n",
        "    print(\"Party's over: fun...ction dies out\")\n",
        "\n",
        "def sleepy_fun():\n",
        "    print(\"before sleep\")\n",
        "    time.sleep(3)\n",
        "    print(\"after sleep\")\n",
        "\n",
        "immediate_fun()\n",
        "sleepy_fun()"
      ],
      "execution_count": null,
      "outputs": []
    },
    {
      "cell_type": "code",
      "metadata": {
        "id": "To66N4zn9JRT"
      },
      "source": [
        "import multiprocessing as mp\n",
        "process_1 = mp.Process(target = immediate_fun)\n",
        "process_2 = mp.Process(target = sleepy_fun)\n",
        "\n",
        "process_1.start()\n",
        "process_2.start()\n",
        "process_1.join()\n",
        "process_2.join()"
      ],
      "execution_count": null,
      "outputs": []
    },
    {
      "cell_type": "markdown",
      "metadata": {
        "id": "A7zGZ2JmWeLW"
      },
      "source": [
        "# Colab-specific: Google drive linkage\n",
        "\n",
        "One powerful feature for Colab is you can access your files via Google Drive."
      ]
    },
    {
      "cell_type": "code",
      "metadata": {
        "id": "FytSfdW-Wh80"
      },
      "source": [
        "from google.colab import drive\n",
        "drive.mount('/content/gdrive')"
      ],
      "execution_count": null,
      "outputs": []
    },
    {
      "cell_type": "code",
      "metadata": {
        "id": "Zw4ScmKXYzy_"
      },
      "source": [
        "from pandas import read_excel\n",
        "# change the path to your xlsx here\n",
        "dataframe = read_excel('/content/gdrive/My Drive/Python/demo_data.xlsx')\n",
        "dataframe"
      ],
      "execution_count": null,
      "outputs": []
    },
    {
      "cell_type": "code",
      "metadata": {
        "id": "-bo_fbPX3ny2"
      },
      "source": [
        "import matplotlib.pyplot as plt\n",
        "plt.scatter(dataframe[\"Day\"], dataframe[\"Reading\"])     # insert your optional arg here\n",
        "plt.title('Reading against Day')\n",
        "plt.xlabel('Day')\n",
        "plt.ylabel('Reading')\n",
        "plt.show()"
      ],
      "execution_count": null,
      "outputs": []
    },
    {
      "cell_type": "code",
      "metadata": {
        "id": "xiDJvdjx3TPJ"
      },
      "source": [
        "plt.plot(dataframe[\"Day\"], dataframe[\"Reading\"])     # insert your optional arg here\n",
        "plt.title('Reading against Day')\n",
        "plt.xlabel('Day')\n",
        "plt.ylabel('Reading')\n",
        "plt.show()"
      ],
      "execution_count": null,
      "outputs": []
    },
    {
      "cell_type": "markdown",
      "metadata": {
        "id": "7-QIOTrpI2XG"
      },
      "source": [
        "Boston housing dataset\n",
        "\n",
        "[https://www.kaggle.com/c/boston-housing](https://www.kaggle.com/c/boston-housing)\n",
        "\n",
        "Authors were to investigate the relationship between population level and housing price\n",
        "\n",
        "Are people willing to pay more for housing in a less populated area?\n",
        "\n",
        "Is the housing price negatively proportional tothe population level in said area?"
      ]
    },
    {
      "cell_type": "code",
      "metadata": {
        "id": "988JOBTd49P6"
      },
      "source": [
        "boston = read_csv(\"/content/gdrive/My Drive/Python/boston_housing.csv\")\n",
        "# , header = None, sep = \"\\s+\")\n",
        "# no header, seperator is 1 or more space \\s+ (eqv. to delim_whitespace = True)\n",
        "boston"
      ],
      "execution_count": null,
      "outputs": []
    },
    {
      "cell_type": "markdown",
      "metadata": {
        "id": "ICW0iYA4GLkJ"
      },
      "source": [
        "Data clearing & exploration"
      ]
    },
    {
      "cell_type": "code",
      "metadata": {
        "id": "1KlMI9_OD6Qp"
      },
      "source": [
        "import pandas as pd\n",
        "boston = pd.DataFrame(data = boston.values, columns = [\"crim\", \"zn\", \"indus\", \"chas\", \"nox\", \"rm\", \"age\", \"dis\", \"rad\", \"tax\", \"ptratio\", \"black\", \"lstat\", \"medv\"])\n",
        "boston"
      ],
      "execution_count": null,
      "outputs": []
    },
    {
      "cell_type": "code",
      "metadata": {
        "id": "TqXUNlXwISEB"
      },
      "source": [
        "max(boston['crim'])"
      ],
      "execution_count": null,
      "outputs": []
    },
    {
      "cell_type": "code",
      "metadata": {
        "id": "2m4U6hOBGQ6j"
      },
      "source": [
        "factor_inv = 'rm'\n",
        "plt.scatter(boston[factor_inv], boston['medv'], s = 2**2)\n",
        "plt.title(f'Scatter plot medv against {factor_inv}')\n",
        "plt.xlabel(factor_inv)\n",
        "plt.ylabel('medv')\n",
        "plt.show()"
      ],
      "execution_count": null,
      "outputs": []
    },
    {
      "cell_type": "markdown",
      "metadata": {
        "id": "nEqPYlqs30GU"
      },
      "source": [
        "# Real-life example\n",
        "\n",
        "\n",
        "Google explanation: [https://developers.google.com/machine-learning/crash-course/california-housing-data-description](https://developers.google.com/machine-learning/crash-course/california-housing-data-description)\n",
        "\n",
        "Origin source: R. Kelley Pace, Ronald Barry, Sparse spatial autoregressions\n",
        "\n",
        "[https://www.sciencedirect.com/science/article/abs/pii/S016771529600140X](https://www.sciencedirect.com/science/article/abs/pii/S016771529600140X) *(subscription needed)*"
      ]
    },
    {
      "cell_type": "code",
      "metadata": {
        "id": "2K1ZTmvt279c"
      },
      "source": [
        "from pandas import read_csv, read_excel\n",
        "d1 = read_csv('/content/sample_data/california_housing_train.csv')\n",
        "d1"
      ],
      "execution_count": null,
      "outputs": []
    },
    {
      "cell_type": "code",
      "metadata": {
        "id": "hU6l5-oByxtF"
      },
      "source": [
        "import matplotlib.pyplot as plt\n",
        "# approximate mapping of California housing\n",
        "plt.scatter(d1['longitude'], d1['latitude']) # , c = '#000000', marker = \"o\", alpha = 0.15, s= 1**2)\n",
        "plt.show()"
      ],
      "execution_count": null,
      "outputs": []
    },
    {
      "cell_type": "code",
      "metadata": {
        "id": "KisqCkaMIxT6"
      },
      "source": [
        "plt.scatter(d1[\"housing_median_age\"], d1[\"median_income\"], s = 1**2)\n",
        "plt.show()"
      ],
      "execution_count": null,
      "outputs": []
    },
    {
      "cell_type": "markdown",
      "metadata": {
        "id": "Xf_7CabazpK5"
      },
      "source": [
        "## Bonus question - data science sense\n",
        "Why does the scatter looks so awkward?\n",
        "\n",
        "*Median house value*\n",
        "1. Floored at 500,000\n",
        "2. Lowest-tier outliers below 100,000, possilbly lower than 2/10 of 100,000 = 20,000\n",
        "\n",
        "*Median income*\n",
        "1. What is the scale and its corresponding numbers?\n",
        "2. How come for the lowest-tier income group shows a huge discrepancy?\n",
        "\n",
        "    i.e. Ranges from 500,000 to 20,000 in *Median income* "
      ]
    },
    {
      "cell_type": "code",
      "metadata": {
        "id": "YD9OJh9DJNMf"
      },
      "source": [
        "plt.scatter(d1[\"median_income\"], d1[\"median_house_value\"], s = 1**2)\n",
        "plt.show()"
      ],
      "execution_count": null,
      "outputs": []
    },
    {
      "cell_type": "markdown",
      "metadata": {
        "id": "WrXPqNnK7KUx"
      },
      "source": [
        "# Iris dataset"
      ]
    },
    {
      "cell_type": "code",
      "metadata": {
        "id": "-BHVkJe-nx8A"
      },
      "source": [
        "import math\n",
        "from sklearn.datasets import load_iris\n",
        "from sklearn.model_selection import train_test_split\n",
        "from sklearn.metrics import classification_report\n",
        "# print(iris.DESCR)"
      ],
      "execution_count": null,
      "outputs": []
    },
    {
      "cell_type": "code",
      "metadata": {
        "id": "6YjfKPN6nyXo"
      },
      "source": [
        "iris = load_iris()"
      ],
      "execution_count": null,
      "outputs": []
    },
    {
      "cell_type": "code",
      "metadata": {
        "id": "9QGycZyQnwW-"
      },
      "source": [
        "iris\n",
        "# print(type(iris))"
      ],
      "execution_count": null,
      "outputs": []
    },
    {
      "cell_type": "code",
      "metadata": {
        "id": "lqrdpnwTnvuc"
      },
      "source": [
        "# .DESCR is the properties for skikit-learn dataset\n",
        "# description of the dataset\n",
        "print(iris.DESCR)"
      ],
      "execution_count": null,
      "outputs": []
    }
  ]
}